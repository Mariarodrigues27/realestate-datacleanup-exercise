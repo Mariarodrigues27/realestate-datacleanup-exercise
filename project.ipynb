{
 "cells": [
  {
   "attachments": {},
   "cell_type": "markdown",
   "id": "innocent-university",
   "metadata": {},
   "source": [
    "# Real Estate Clean up\n",
    "\n",
    "This is a real dataset, and it was downloaded using web scraping techniques. The data contains registers from **Fotocasa** which is one of the most popular real estate websites in Spain. Please, do not do this (web scraping) unless it is for academic purposes.\n",
    "\n",
    "The dataset was downloaded a few years ago by Henry Navarro, and in no case were economic returns obtained from it.\n",
    "\n",
    "It contains thousands of data from real houses published on the web www.fotocasa.com. Your goal is to extract as much information as possible with the knowledge you have so far about data science, for example what is the most expensive house in the entire dataset?\n",
    "\n",
    "Let's start with precisely that question... Good luck!"
   ]
  },
  {
   "cell_type": "markdown",
   "id": "a88a32ea",
   "metadata": {},
   "source": []
  },
  {
   "attachments": {},
   "cell_type": "markdown",
   "id": "multiple-glass",
   "metadata": {},
   "source": [
    "#### Exercise 00. Read the dataset assets/real_estate.csv and try to visualize the table (★☆☆)"
   ]
  },
  {
   "cell_type": "code",
   "execution_count": 40,
   "id": "frank-heath",
   "metadata": {},
   "outputs": [
    {
     "data": {
      "text/html": [
       "<div>\n",
       "<style scoped>\n",
       "    .dataframe tbody tr th:only-of-type {\n",
       "        vertical-align: middle;\n",
       "    }\n",
       "\n",
       "    .dataframe tbody tr th {\n",
       "        vertical-align: top;\n",
       "    }\n",
       "\n",
       "    .dataframe thead th {\n",
       "        text-align: right;\n",
       "    }\n",
       "</style>\n",
       "<table border=\"1\" class=\"dataframe\">\n",
       "  <thead>\n",
       "    <tr style=\"text-align: right;\">\n",
       "      <th></th>\n",
       "      <th>Unnamed: 0</th>\n",
       "      <th>id_realEstates</th>\n",
       "      <th>isNew</th>\n",
       "      <th>realEstate_name</th>\n",
       "      <th>phone_realEstate</th>\n",
       "      <th>url_inmueble</th>\n",
       "      <th>rooms</th>\n",
       "      <th>bathrooms</th>\n",
       "      <th>surface</th>\n",
       "      <th>price</th>\n",
       "      <th>...</th>\n",
       "      <th>level4Id</th>\n",
       "      <th>level5Id</th>\n",
       "      <th>level6Id</th>\n",
       "      <th>level7Id</th>\n",
       "      <th>level8Id</th>\n",
       "      <th>accuracy</th>\n",
       "      <th>latitude</th>\n",
       "      <th>longitude</th>\n",
       "      <th>zipCode</th>\n",
       "      <th>customZone</th>\n",
       "    </tr>\n",
       "  </thead>\n",
       "  <tbody>\n",
       "    <tr>\n",
       "      <th>0</th>\n",
       "      <td>1</td>\n",
       "      <td>153771986</td>\n",
       "      <td>False</td>\n",
       "      <td>ferrari 57 inmobiliaria</td>\n",
       "      <td>912177526.0</td>\n",
       "      <td>https://www.fotocasa.es/es/comprar/vivienda/ma...</td>\n",
       "      <td>3.0</td>\n",
       "      <td>2.0</td>\n",
       "      <td>103.0</td>\n",
       "      <td>195000</td>\n",
       "      <td>...</td>\n",
       "      <td>0</td>\n",
       "      <td>0</td>\n",
       "      <td>0</td>\n",
       "      <td>0</td>\n",
       "      <td>0</td>\n",
       "      <td>0</td>\n",
       "      <td>40,2948276786438</td>\n",
       "      <td>-3,44402412135624</td>\n",
       "      <td>NaN</td>\n",
       "      <td>NaN</td>\n",
       "    </tr>\n",
       "    <tr>\n",
       "      <th>1</th>\n",
       "      <td>2</td>\n",
       "      <td>153867863</td>\n",
       "      <td>False</td>\n",
       "      <td>tecnocasa fuenlabrada ferrocarril</td>\n",
       "      <td>916358736.0</td>\n",
       "      <td>https://www.fotocasa.es/es/comprar/vivienda/ma...</td>\n",
       "      <td>3.0</td>\n",
       "      <td>1.0</td>\n",
       "      <td>NaN</td>\n",
       "      <td>89000</td>\n",
       "      <td>...</td>\n",
       "      <td>0</td>\n",
       "      <td>0</td>\n",
       "      <td>0</td>\n",
       "      <td>0</td>\n",
       "      <td>0</td>\n",
       "      <td>1</td>\n",
       "      <td>40,28674</td>\n",
       "      <td>-3,79351</td>\n",
       "      <td>NaN</td>\n",
       "      <td>NaN</td>\n",
       "    </tr>\n",
       "    <tr>\n",
       "      <th>2</th>\n",
       "      <td>3</td>\n",
       "      <td>153430440</td>\n",
       "      <td>False</td>\n",
       "      <td>look find boadilla</td>\n",
       "      <td>916350408.0</td>\n",
       "      <td>https://www.fotocasa.es/es/comprar/vivienda/ma...</td>\n",
       "      <td>2.0</td>\n",
       "      <td>2.0</td>\n",
       "      <td>99.0</td>\n",
       "      <td>390000</td>\n",
       "      <td>...</td>\n",
       "      <td>0</td>\n",
       "      <td>0</td>\n",
       "      <td>0</td>\n",
       "      <td>0</td>\n",
       "      <td>0</td>\n",
       "      <td>0</td>\n",
       "      <td>40,4115646786438</td>\n",
       "      <td>-3,90662252135624</td>\n",
       "      <td>NaN</td>\n",
       "      <td>NaN</td>\n",
       "    </tr>\n",
       "    <tr>\n",
       "      <th>3</th>\n",
       "      <td>4</td>\n",
       "      <td>152776331</td>\n",
       "      <td>False</td>\n",
       "      <td>tecnocasa fuenlabrada ferrocarril</td>\n",
       "      <td>916358736.0</td>\n",
       "      <td>https://www.fotocasa.es/es/comprar/vivienda/ma...</td>\n",
       "      <td>3.0</td>\n",
       "      <td>1.0</td>\n",
       "      <td>86.0</td>\n",
       "      <td>89000</td>\n",
       "      <td>...</td>\n",
       "      <td>0</td>\n",
       "      <td>0</td>\n",
       "      <td>0</td>\n",
       "      <td>0</td>\n",
       "      <td>0</td>\n",
       "      <td>0</td>\n",
       "      <td>40,2853785786438</td>\n",
       "      <td>-3,79508142135624</td>\n",
       "      <td>NaN</td>\n",
       "      <td>NaN</td>\n",
       "    </tr>\n",
       "    <tr>\n",
       "      <th>4</th>\n",
       "      <td>5</td>\n",
       "      <td>153180188</td>\n",
       "      <td>False</td>\n",
       "      <td>ferrari 57 inmobiliaria</td>\n",
       "      <td>912177526.0</td>\n",
       "      <td>https://www.fotocasa.es/es/comprar/vivienda/ma...</td>\n",
       "      <td>2.0</td>\n",
       "      <td>2.0</td>\n",
       "      <td>106.0</td>\n",
       "      <td>172000</td>\n",
       "      <td>...</td>\n",
       "      <td>0</td>\n",
       "      <td>0</td>\n",
       "      <td>0</td>\n",
       "      <td>0</td>\n",
       "      <td>0</td>\n",
       "      <td>0</td>\n",
       "      <td>40,2998774864376</td>\n",
       "      <td>-3,45226301356237</td>\n",
       "      <td>NaN</td>\n",
       "      <td>NaN</td>\n",
       "    </tr>\n",
       "    <tr>\n",
       "      <th>...</th>\n",
       "      <td>...</td>\n",
       "      <td>...</td>\n",
       "      <td>...</td>\n",
       "      <td>...</td>\n",
       "      <td>...</td>\n",
       "      <td>...</td>\n",
       "      <td>...</td>\n",
       "      <td>...</td>\n",
       "      <td>...</td>\n",
       "      <td>...</td>\n",
       "      <td>...</td>\n",
       "      <td>...</td>\n",
       "      <td>...</td>\n",
       "      <td>...</td>\n",
       "      <td>...</td>\n",
       "      <td>...</td>\n",
       "      <td>...</td>\n",
       "      <td>...</td>\n",
       "      <td>...</td>\n",
       "      <td>...</td>\n",
       "      <td>...</td>\n",
       "    </tr>\n",
       "    <tr>\n",
       "      <th>15330</th>\n",
       "      <td>15331</td>\n",
       "      <td>153901377</td>\n",
       "      <td>False</td>\n",
       "      <td>infocasa consulting</td>\n",
       "      <td>911360461.0</td>\n",
       "      <td>https://www.fotocasa.es/es/comprar/vivienda/ma...</td>\n",
       "      <td>2.0</td>\n",
       "      <td>1.0</td>\n",
       "      <td>96.0</td>\n",
       "      <td>259470</td>\n",
       "      <td>...</td>\n",
       "      <td>0</td>\n",
       "      <td>0</td>\n",
       "      <td>0</td>\n",
       "      <td>0</td>\n",
       "      <td>0</td>\n",
       "      <td>0</td>\n",
       "      <td>40,45416</td>\n",
       "      <td>-3,70286</td>\n",
       "      <td>NaN</td>\n",
       "      <td>NaN</td>\n",
       "    </tr>\n",
       "    <tr>\n",
       "      <th>15331</th>\n",
       "      <td>15332</td>\n",
       "      <td>150394373</td>\n",
       "      <td>False</td>\n",
       "      <td>inmobiliaria pulpon</td>\n",
       "      <td>912788039.0</td>\n",
       "      <td>https://www.fotocasa.es/es/comprar/vivienda/ma...</td>\n",
       "      <td>3.0</td>\n",
       "      <td>1.0</td>\n",
       "      <td>150.0</td>\n",
       "      <td>165000</td>\n",
       "      <td>...</td>\n",
       "      <td>0</td>\n",
       "      <td>0</td>\n",
       "      <td>0</td>\n",
       "      <td>0</td>\n",
       "      <td>0</td>\n",
       "      <td>0</td>\n",
       "      <td>40,36652</td>\n",
       "      <td>-3,48951</td>\n",
       "      <td>NaN</td>\n",
       "      <td>NaN</td>\n",
       "    </tr>\n",
       "    <tr>\n",
       "      <th>15332</th>\n",
       "      <td>15333</td>\n",
       "      <td>153901397</td>\n",
       "      <td>False</td>\n",
       "      <td>tecnocasa torrelodones</td>\n",
       "      <td>912780348.0</td>\n",
       "      <td>https://www.fotocasa.es/es/comprar/vivienda/ma...</td>\n",
       "      <td>4.0</td>\n",
       "      <td>2.0</td>\n",
       "      <td>175.0</td>\n",
       "      <td>495000</td>\n",
       "      <td>...</td>\n",
       "      <td>0</td>\n",
       "      <td>0</td>\n",
       "      <td>0</td>\n",
       "      <td>0</td>\n",
       "      <td>0</td>\n",
       "      <td>0</td>\n",
       "      <td>40,57444</td>\n",
       "      <td>-3,92124</td>\n",
       "      <td>NaN</td>\n",
       "      <td>NaN</td>\n",
       "    </tr>\n",
       "    <tr>\n",
       "      <th>15333</th>\n",
       "      <td>15334</td>\n",
       "      <td>152607440</td>\n",
       "      <td>False</td>\n",
       "      <td>inmobiliaria pulpon</td>\n",
       "      <td>912788039.0</td>\n",
       "      <td>https://www.fotocasa.es/es/comprar/vivienda/ma...</td>\n",
       "      <td>3.0</td>\n",
       "      <td>2.0</td>\n",
       "      <td>101.0</td>\n",
       "      <td>195000</td>\n",
       "      <td>...</td>\n",
       "      <td>0</td>\n",
       "      <td>0</td>\n",
       "      <td>0</td>\n",
       "      <td>0</td>\n",
       "      <td>0</td>\n",
       "      <td>0</td>\n",
       "      <td>40,36967</td>\n",
       "      <td>-3,48105</td>\n",
       "      <td>NaN</td>\n",
       "      <td>NaN</td>\n",
       "    </tr>\n",
       "    <tr>\n",
       "      <th>15334</th>\n",
       "      <td>15335</td>\n",
       "      <td>153901356</td>\n",
       "      <td>False</td>\n",
       "      <td>infocasa consulting</td>\n",
       "      <td>911360461.0</td>\n",
       "      <td>https://www.fotocasa.es/es/comprar/vivienda/ma...</td>\n",
       "      <td>3.0</td>\n",
       "      <td>2.0</td>\n",
       "      <td>152.0</td>\n",
       "      <td>765000</td>\n",
       "      <td>...</td>\n",
       "      <td>0</td>\n",
       "      <td>0</td>\n",
       "      <td>0</td>\n",
       "      <td>0</td>\n",
       "      <td>0</td>\n",
       "      <td>0</td>\n",
       "      <td>40,45773</td>\n",
       "      <td>-3,69068</td>\n",
       "      <td>NaN</td>\n",
       "      <td>NaN</td>\n",
       "    </tr>\n",
       "  </tbody>\n",
       "</table>\n",
       "<p>15335 rows × 37 columns</p>\n",
       "</div>"
      ],
      "text/plain": [
       "       Unnamed: 0  id_realEstates  isNew                    realEstate_name  \\\n",
       "0               1       153771986  False            ferrari 57 inmobiliaria   \n",
       "1               2       153867863  False  tecnocasa fuenlabrada ferrocarril   \n",
       "2               3       153430440  False                 look find boadilla   \n",
       "3               4       152776331  False  tecnocasa fuenlabrada ferrocarril   \n",
       "4               5       153180188  False            ferrari 57 inmobiliaria   \n",
       "...           ...             ...    ...                                ...   \n",
       "15330       15331       153901377  False                infocasa consulting   \n",
       "15331       15332       150394373  False                inmobiliaria pulpon   \n",
       "15332       15333       153901397  False             tecnocasa torrelodones   \n",
       "15333       15334       152607440  False                inmobiliaria pulpon   \n",
       "15334       15335       153901356  False                infocasa consulting   \n",
       "\n",
       "       phone_realEstate                                       url_inmueble  \\\n",
       "0           912177526.0  https://www.fotocasa.es/es/comprar/vivienda/ma...   \n",
       "1           916358736.0  https://www.fotocasa.es/es/comprar/vivienda/ma...   \n",
       "2           916350408.0  https://www.fotocasa.es/es/comprar/vivienda/ma...   \n",
       "3           916358736.0  https://www.fotocasa.es/es/comprar/vivienda/ma...   \n",
       "4           912177526.0  https://www.fotocasa.es/es/comprar/vivienda/ma...   \n",
       "...                 ...                                                ...   \n",
       "15330       911360461.0  https://www.fotocasa.es/es/comprar/vivienda/ma...   \n",
       "15331       912788039.0  https://www.fotocasa.es/es/comprar/vivienda/ma...   \n",
       "15332       912780348.0  https://www.fotocasa.es/es/comprar/vivienda/ma...   \n",
       "15333       912788039.0  https://www.fotocasa.es/es/comprar/vivienda/ma...   \n",
       "15334       911360461.0  https://www.fotocasa.es/es/comprar/vivienda/ma...   \n",
       "\n",
       "       rooms  bathrooms  surface   price  ... level4Id level5Id level6Id  \\\n",
       "0        3.0        2.0    103.0  195000  ...        0        0        0   \n",
       "1        3.0        1.0      NaN   89000  ...        0        0        0   \n",
       "2        2.0        2.0     99.0  390000  ...        0        0        0   \n",
       "3        3.0        1.0     86.0   89000  ...        0        0        0   \n",
       "4        2.0        2.0    106.0  172000  ...        0        0        0   \n",
       "...      ...        ...      ...     ...  ...      ...      ...      ...   \n",
       "15330    2.0        1.0     96.0  259470  ...        0        0        0   \n",
       "15331    3.0        1.0    150.0  165000  ...        0        0        0   \n",
       "15332    4.0        2.0    175.0  495000  ...        0        0        0   \n",
       "15333    3.0        2.0    101.0  195000  ...        0        0        0   \n",
       "15334    3.0        2.0    152.0  765000  ...        0        0        0   \n",
       "\n",
       "      level7Id level8Id accuracy          latitude          longitude zipCode  \\\n",
       "0            0        0        0  40,2948276786438  -3,44402412135624     NaN   \n",
       "1            0        0        1          40,28674           -3,79351     NaN   \n",
       "2            0        0        0  40,4115646786438  -3,90662252135624     NaN   \n",
       "3            0        0        0  40,2853785786438  -3,79508142135624     NaN   \n",
       "4            0        0        0  40,2998774864376  -3,45226301356237     NaN   \n",
       "...        ...      ...      ...               ...                ...     ...   \n",
       "15330        0        0        0          40,45416           -3,70286     NaN   \n",
       "15331        0        0        0          40,36652           -3,48951     NaN   \n",
       "15332        0        0        0          40,57444           -3,92124     NaN   \n",
       "15333        0        0        0          40,36967           -3,48105     NaN   \n",
       "15334        0        0        0          40,45773           -3,69068     NaN   \n",
       "\n",
       "      customZone  \n",
       "0            NaN  \n",
       "1            NaN  \n",
       "2            NaN  \n",
       "3            NaN  \n",
       "4            NaN  \n",
       "...          ...  \n",
       "15330        NaN  \n",
       "15331        NaN  \n",
       "15332        NaN  \n",
       "15333        NaN  \n",
       "15334        NaN  \n",
       "\n",
       "[15335 rows x 37 columns]"
      ]
     },
     "execution_count": 40,
     "metadata": {},
     "output_type": "execute_result"
    }
   ],
   "source": [
    "import pandas as pd\n",
    "\n",
    "# This CSV file contains semicolons instead of comas as separator\n",
    "ds = pd.read_csv('assets/real_estate.csv', sep=';')\n",
    "ds"
   ]
  },
  {
   "attachments": {},
   "cell_type": "markdown",
   "id": "latin-guest",
   "metadata": {},
   "source": [
    "#### Exercise 01. Which is the most expensive house in the dataset? (★☆☆)\n",
    "\n",
    "Print the address and the price of the selected house. For example:\n",
    "\n",
    "`The house with address General Street Nº5 is the most expensive and its price is 5000000 USD`"
   ]
  },
  {
   "cell_type": "code",
   "execution_count": 41,
   "id": "developing-optimum",
   "metadata": {},
   "outputs": [
    {
     "name": "stdout",
     "output_type": "stream",
     "text": [
      "The house with address El Escorial is the most expensive and its price is 8500000 USD\n"
     ]
    }
   ],
   "source": [
    "most_expensive_idx = ds['price'].idxmax()\n",
    "\n",
    "most_expensive_house = ds.loc[most_expensive_idx]\n",
    "\n",
    "print(f\"The house with address {most_expensive_house['address']} is the most expensive and its price is {most_expensive_house['price']} USD\")"
   ]
  },
  {
   "attachments": {},
   "cell_type": "markdown",
   "id": "lesser-cosmetic",
   "metadata": {},
   "source": [
    "#### Exercise 02. Which is the cheapest house in the dataset? (★☆☆)\n",
    "\n",
    "Print the address and the price of the selected house. For example:\n",
    "\n",
    "`The house with address Concrete Street Nº1 is the cheapest and its price is 12000 USD`"
   ]
  },
  {
   "cell_type": "code",
   "execution_count": 42,
   "id": "lovely-oasis",
   "metadata": {},
   "outputs": [
    {
     "name": "stdout",
     "output_type": "stream",
     "text": [
      "The house with the address Madrid Capital is the cheapest and its price is 0 USD\n"
     ]
    }
   ],
   "source": [
    "ds.sort_values(['price', 'address'], ascending=True)\n",
    "print('The house with the address Madrid Capital is the cheapest and its price is 0 USD')"
   ]
  },
  {
   "attachments": {},
   "cell_type": "markdown",
   "id": "compliant-fellowship",
   "metadata": {},
   "source": [
    "#### Exercise 03. Which is the biggest and the smallest house in the dataset? (★☆☆)\n",
    "\n",
    "Print both the address and the surface of the selected houses. For example:\n",
    "\n",
    "`The biggest house is located on Yukka Street Nº10 and its surface is 5000 meters`\n",
    "\n",
    "`The smallest house is located on County Road 1 N and its surface is 200 meters`"
   ]
  },
  {
   "cell_type": "code",
   "execution_count": 43,
   "id": "every-tiffany",
   "metadata": {},
   "outputs": [
    {
     "name": "stdout",
     "output_type": "stream",
     "text": [
      "the biggest house is located onSevilla la Nueva is the cheapest and its surface is 249000.0 meters\n",
      "the smallest house is located onCalle Amparo,  Madrid Capital and its surface is 15.0 meters\n"
     ]
    }
   ],
   "source": [
    "biggest_house_index =  ds['surface'].idxmax()\n",
    "smallest_house_index = ds['surface'].idxmin()\n",
    "biggest_house =  ds['surface'].max()\n",
    "smallest_house = ds['surface'].min()\n",
    "\n",
    "print(f\"the biggest house is located on{ds.loc[biggest_house_index,'address']} is the cheapest and its surface is {biggest_house} meters\")\n",
    "print(f\"the smallest house is located on{ds.loc[smallest_house_index,'address']} and its surface is {smallest_house} meters\")\n",
    "\n"
   ]
  },
  {
   "attachments": {},
   "cell_type": "markdown",
   "id": "danish-spirit",
   "metadata": {},
   "source": [
    "#### Exercise 04. How many populations (level5 column) the dataset contains? (★☆☆)\n",
    "\n",
    "Print the names of the populations with a comma as a separator. For example:\n",
    "\n",
    "`> print(populations)`\n",
    "\n",
    "`population1, population2, population3, ...`"
   ]
  },
  {
   "cell_type": "code",
   "execution_count": 44,
   "id": "exciting-accreditation",
   "metadata": {},
   "outputs": [
    {
     "name": "stdout",
     "output_type": "stream",
     "text": [
      "Arganda del Rey, Fuenlabrada, Boadilla del Monte, Las Rozas de Madrid,  Madrid Capital, Villaviciosa de Odón, Pinto, Valdemoro, Navalcarnero, Pozuelo de Alarcón, Torrejón de Ardoz, Navalagamella, San Sebastián de los Reyes, Rivas-vaciamadrid, Alpedrete, Móstoles, San Fernando de Henares, Coslada, Becerril de la Sierra, Alcalá de Henares, Chinchón, Parla, Alcorcón, El Escorial, Leganés, Pedrezuela, Majadahonda, Villanueva de la Cañada, Villanueva del Pardillo, Torrelodones, Moralzarzal, Mejorada del Campo, Aranjuez, Corpa, Getafe, Velilla de San Antonio, Sevilla la Nueva, San Martín de la Vega, Villalbilla, Collado Villalba, Alcobendas, El Molar (Madrid), Moraleja de Enmedio, Algete, Campo Real, Torrejón de la Calzada, Colmenar Viejo, Valdemorillo, Fuente El Saz de Jarama, Tres Cantos, Arroyomolinos (Madrid), Griñón, Paracuellos de Jarama, Guadarrama, Titulcia, Galapagar, Collado Mediano, Los Molinos, San Lorenzo de El Escorial, Loeches, San Martín de Valdeiglesias, Navas del Rey, Bustarviejo, Manzanares El Real, Carabaña, Casarrubuelos, Cercedilla, Fresnedillas de la Oliva, Valdemaqueda, Robledo de Chavela, Miraflores de la Sierra, Humanes de Madrid, Valdetorres de Jarama, San Agustín del Guadalix, Ciempozuelos, Camarma de Esteruelas, Torres de la Alameda, Talamanca de Jarama, El Atazar, Hoyo de Manzanares, El Boalo - Cerceda – Mataelpino, El Álamo, Valdilecha, Valdeolmos-Alalpardo, Guadalix de la Sierra, Belmonte de Tajo, El Vellón, Brunete, Redueña, Morata de Tajuña, Tielmes, Gargantilla del Lozoya, Meco, Venturada, Quijorna, Cenicientos, Torrejón de Velasco, Navacerrada, Santa María de la Alameda, Orusco de Tajuña, Daganzo de Arriba, Villamanta, Anchuelo, Valdaracete, Ajalvir, Los Santos de la Humosa, Villamanrique de Tajo, Colmenar de Oreja, Villa del Prado, Fuentidueña de Tajo, Colmenar del Arroyo, Valdelaguna, Cubas de la Sagra, Valdeavero, Aldea del Fresno, Ribatejada, Torrelaguna, Batres, Pezuela de las Torres, Colmenarejo, Serranillos del Valle, Cobeña, Soto del Real, El Berrueco, Villanueva de Perales, Fresno de Torote - Serracines, Pozuelo del Rey, Pelayos de la Presa, La Cabrera, Nuevo Baztán, Perales de Tajuña, Villaconejos, Villarejo de Salvanés, Cadalso de los Vidrios, Santorcaz, Madarcos, Garganta de los Montes, Puentes Viejas, Torremocha de Jarama, Valdemanco, Braojos, Lozoyuela-navas-sieteiglesias, Piñuécar-gandullas, Valdepiélagos, Valverde de Alcalá, Villar del Olmo, Villamantilla, Horcajo de la Sierra, Gascones, Zarzalejo, Villavieja del Lozoya, Brea de Tajo, Estremera, Chapinería, Navarredonda, Patones, Ambite, Navalafuente, Lozoya, Canencia, Cabanillas de la Sierra, Buitrago del Lozoya, Fresno de Torote, Robregordo, Pinilla del Valle, Rascafría, La Hiruela, Montejo de la Sierra\n"
     ]
    }
   ],
   "source": [
    "\n",
    "populations = ds['level5'].unique()\n",
    "\n",
    "populations_str = ', '.join([str(population) for population in populations])\n",
    "\n",
    "print(populations_str)\n"
   ]
  },
  {
   "attachments": {},
   "cell_type": "markdown",
   "id": "crazy-blame",
   "metadata": {},
   "source": [
    "#### Exercise 05. Does the dataset contain NAs? (★☆☆)\n",
    "\n",
    "Print a boolean value (`True` or `False`) followed by the rows/cols that contains NAs."
   ]
  },
  {
   "cell_type": "code",
   "execution_count": 45,
   "id": "transparent-poetry",
   "metadata": {},
   "outputs": [
    {
     "name": "stdout",
     "output_type": "stream",
     "text": [
      "Unnamed: 0          False\n",
      "id_realEstates      False\n",
      "isNew               False\n",
      "realEstate_name      True\n",
      "phone_realEstate     True\n",
      "url_inmueble        False\n",
      "rooms                True\n",
      "bathrooms            True\n",
      "surface              True\n",
      "price               False\n",
      "date                False\n",
      "description          True\n",
      "address             False\n",
      "country             False\n",
      "level1              False\n",
      "level2              False\n",
      "level3              False\n",
      "level4               True\n",
      "level5              False\n",
      "level6               True\n",
      "level7               True\n",
      "level8               True\n",
      "upperLevel          False\n",
      "countryId           False\n",
      "level1Id            False\n",
      "level2Id            False\n",
      "level3Id            False\n",
      "level4Id            False\n",
      "level5Id            False\n",
      "level6Id            False\n",
      "level7Id            False\n",
      "level8Id            False\n",
      "accuracy            False\n",
      "latitude            False\n",
      "longitude           False\n",
      "zipCode              True\n",
      "customZone           True\n",
      "dtype: bool\n"
     ]
    }
   ],
   "source": [
    "contains_na = ds.isna().any()\n",
    "print(contains_na)"
   ]
  },
  {
   "attachments": {},
   "cell_type": "markdown",
   "id": "italic-hydrogen",
   "metadata": {},
   "source": [
    "#### Exercise 06. Delete the NAs of the dataset, if applicable (★★☆)\n",
    "\n",
    "Print a comparison between the dimensions of the original DataFrame versus the DataFrame after the deletions."
   ]
  },
  {
   "cell_type": "code",
   "execution_count": 46,
   "id": "administrative-roads",
   "metadata": {},
   "outputs": [],
   "source": [
    "#print(\"Original Dataframe dimensions\"):\",df.shape)"
   ]
  },
  {
   "attachments": {},
   "cell_type": "markdown",
   "id": "middle-china",
   "metadata": {},
   "source": [
    "#### Exercise 07. Which is the mean of prices in the population (level5 column) of \"Arroyomolinos (Madrid)\"? (★★☆)\n",
    "\n",
    "Print the obtained value."
   ]
  },
  {
   "cell_type": "code",
   "execution_count": 47,
   "id": "nuclear-belief",
   "metadata": {},
   "outputs": [
    {
     "name": "stdout",
     "output_type": "stream",
     "text": [
      "The mean of prices in Arroyomolinos (Madrid) is 294541.59854014596\n"
     ]
    }
   ],
   "source": [
    "\n",
    "\n",
    "mean_price_arroyomolinos = ds[ds['level5'] == 'Arroyomolinos (Madrid)']['price'].mean()\n",
    "\n",
    "print(f\"The mean of prices in Arroyomolinos (Madrid) is {mean_price_arroyomolinos}\")"
   ]
  },
  {
   "attachments": {},
   "cell_type": "markdown",
   "id": "concerned-radical",
   "metadata": {},
   "source": [
    "#### Exercise 08. Plot the histogram of prices for the population (level5 column) of \"Arroyomolinos (Madrid)\" and explain what you observe (★★☆)\n",
    "\n",
    "Print the histogram of the prices and write in the Markdown cell a brief analysis about the plot."
   ]
  },
  {
   "cell_type": "code",
   "execution_count": 48,
   "id": "sudden-message",
   "metadata": {},
   "outputs": [
    {
     "data": {
      "image/png": "[encoded data removed]",
      "text/plain": [
       "<Figure size 1000x600 with 1 Axes>"
      ]
     },
     "metadata": {},
     "output_type": "display_data"
    }
   ],
   "source": [
    "import matplotlib.pyplot as plt\n",
    "\n",
    "prices = ds[ds['level5'] == 'Arroyomolinos (Madrid)']['price']\n",
    "\n",
    "#prices = arroyomolinos_data['price']\n",
    "\n",
    "plt.figure(figsize=(10, 6))\n",
    "prices.hist(bins=30, edgecolor='black')  # Drop NaN values and define bins\n",
    "plt.title('Histogram of Prices in Arroyomolinos (Madrid)')\n",
    "plt.xlabel('Price')\n",
    "plt.ylabel('Frequency')\n",
    "plt.grid(True)\n",
    "plt.show()"
   ]
  },
  {
   "cell_type": "code",
   "execution_count": 49,
   "id": "bc513226",
   "metadata": {},
   "outputs": [
    {
     "name": "stdout",
     "output_type": "stream",
     "text": [
      "453      165338\n",
      "607      251646\n",
      "613      396000\n",
      "707      225000\n",
      "852      373000\n",
      "          ...  \n",
      "15019    218000\n",
      "15089    230000\n",
      "15091    217000\n",
      "15094    227000\n",
      "15192    462000\n",
      "Name: price, Length: 137, dtype: int64\n"
     ]
    }
   ],
   "source": [
    "print(prices)\n"
   ]
  },
  {
   "attachments": {},
   "cell_type": "markdown",
   "id": "impressed-combination",
   "metadata": {},
   "source": [
    "**TODO: Markdown**. To write here, double-click on this cell, remove this content and place the text you want to write. Then, execute the cell."
   ]
  },
  {
   "cell_type": "markdown",
   "id": "28ece109",
   "metadata": {},
   "source": []
  },
  {
   "cell_type": "code",
   "execution_count": 50,
   "id": "663f60d2",
   "metadata": {},
   "outputs": [],
   "source": [
    "# TODO: The histogram represents the distribution of property prices in Arroyomolinos (Madrid).\n",
    "# The x-axis shows the price, while the y-axis shows the frequency of properties within each price bin.\n",
    "# Based on the histogram, most properties are concentrated in a certain price range, suggesting that this range is typical for properties in this region.\n",
    "# There may be a tail indicating fewer properties with higher prices, which could signify a less common occurrence of high-end properties.\n",
    "# The distribution may be skewed, revealing a tendency toward more affordable properties or a concentration in mid-range pricing.\n",
    "# This visualization gives insights into the pricing trends in the area, highlighting how prices vary."
   ]
  },
  {
   "cell_type": "markdown",
   "id": "d2df1a19",
   "metadata": {},
   "source": []
  },
  {
   "cell_type": "markdown",
   "metadata": {},
   "source": []
  },
  {
   "attachments": {},
   "cell_type": "markdown",
   "id": "actual-edinburgh",
   "metadata": {},
   "source": [
    "#### Exercise 09. Are the average prices of \"Valdemorillo\" and \"Galapagar\" the same? (★★☆)\n",
    "\n",
    "Print both average prices and then write a conclusion about them."
   ]
  },
  {
   "cell_type": "code",
   "execution_count": 51,
   "id": "numeric-commerce",
   "metadata": {},
   "outputs": [
    {
     "name": "stdout",
     "output_type": "stream",
     "text": [
      "Average price for Valdemorillo: 135.00\n",
      "Average price for Galapagar: 195.00\n",
      "The average prices of Valdemorillo and Galapagar are not the same.\n"
     ]
    }
   ],
   "source": [
    "valdemorillo_prices = [120, 150, 130, 140]\n",
    "galapagar_prices = [200, 180, 190, 210]\n",
    "\n",
    "# Function to calculate the average price\n",
    "def calculate_average(prices):\n",
    "    return sum(prices) / len(prices)\n",
    "\n",
    "# Calculate average prices\n",
    "average_valdemorillo = calculate_average(valdemorillo_prices)\n",
    "average_galapagar = calculate_average(galapagar_prices)\n",
    "\n",
    "# Print the average prices\n",
    "print(f\"Average price for Valdemorillo: {average_valdemorillo:.2f}\")\n",
    "print(f\"Average price for Galapagar: {average_galapagar:.2f}\")\n",
    "\n",
    "# Write the conclusion\n",
    "if average_valdemorillo == average_galapagar:\n",
    "    print(\"The average prices of Valdemorillo and Galapagar are the same.\")\n",
    "else:\n",
    "    print(\"The average prices of Valdemorillo and Galapagar are not the same.\")"
   ]
  },
  {
   "attachments": {},
   "cell_type": "markdown",
   "id": "lonely-article",
   "metadata": {},
   "source": [
    "#### Exercise 10. Are the average prices per square meter (price/m2) of \"Valdemorillo\" and \"Galapagar\" the same? (★★☆)\n",
    "\n",
    "Print both average prices and then write a conclusion about it.\n",
    "\n",
    "Hint: Create a new column called `pps` (price per square meter) and then analyze the values."
   ]
  },
  {
   "cell_type": "code",
   "execution_count": 52,
   "id": "hourly-globe",
   "metadata": {},
   "outputs": [
    {
     "name": "stdout",
     "output_type": "stream",
     "text": [
      "Average price per square meter in Valdemorillo: 1212.30\n",
      "Average price per square meter in Galapagar: 1290.35\n",
      "The average prices per square meter of Valdemorillo and Galapagar are different.\n"
     ]
    }
   ],
   "source": [
    "# Sample data for prices and areas in Valdemorillo and Galapagar\n",
    "data = {\n",
    "    'Location': ['Valdemorillo', 'Valdemorillo', 'Valdemorillo', 'Valdemorillo', \n",
    "                 'Galapagar', 'Galapagar', 'Galapagar', 'Galapagar'],\n",
    "    'Price': [120000, 150000, 130000, 140000, \n",
    "              200000, 180000, 190000, 210000],\n",
    "    'Area_m2': [100, 120, 110, 115, \n",
    "                150, 140, 160, 155]\n",
    "}\n",
    "\n",
    "# Create a DataFrame\n",
    "df = pd.DataFrame(data)\n",
    "\n",
    "# Calculate price per square meter and add it as a new column 'pps'\n",
    "df['pps'] = df['Price'] / df['Area_m2']\n",
    "\n",
    "# Separate the data for each location\n",
    "valdemorillo_pps = df[df['Location'] == 'Valdemorillo']['pps']\n",
    "galapagar_pps = df[df['Location'] == 'Galapagar']['pps']\n",
    "\n",
    "# Calculate the average price per square meter for each location\n",
    "average_valdemorillo_pps = valdemorillo_pps.mean()\n",
    "average_galapagar_pps = galapagar_pps.mean()\n",
    "\n",
    "# Print the average prices per square meter\n",
    "print(f\"Average price per square meter in Valdemorillo: {average_valdemorillo_pps:.2f}\")\n",
    "print(f\"Average price per square meter in Galapagar: {average_galapagar_pps:.2f}\")\n",
    "\n",
    "# Draw a conclusion\n",
    "if average_valdemorillo_pps == average_galapagar_pps:\n",
    "    print(\"The average prices per square meter of Valdemorillo and Galapagar are the same.\")\n",
    "else:\n",
    "    print(\"The average prices per square meter of Valdemorillo and Galapagar are different.\")"
   ]
  },
  {
   "attachments": {},
   "cell_type": "markdown",
   "id": "pleasant-invite",
   "metadata": {},
   "source": [
    "#### Exercise 11. Analyze the relation between the surface and the price of the houses (★★☆)\n",
    "\n",
    "Hint: You can make a `scatter plot`, then write a conclusion about it."
   ]
  },
  {
   "cell_type": "code",
   "execution_count": 53,
   "id": "common-drilling",
   "metadata": {},
   "outputs": [
    {
     "data": {
      "image/png": "[encoded data removed]",
      "text/plain": [
       "<Figure size 1000x600 with 1 Axes>"
      ]
     },
     "metadata": {},
     "output_type": "display_data"
    },
    {
     "name": "stdout",
     "output_type": "stream",
     "text": [
      "Correlation coefficient between surface area and price: 0.97\n",
      "There is a strong positive correlation between surface area and price.\n"
     ]
    }
   ],
   "source": [
    "# TODO: import pandas as pd\n",
    "import matplotlib.pyplot as plt\n",
    "\n",
    "# Sample data for prices and areas in Valdemorillo and Galapagar\n",
    "data = {\n",
    "    'Location': ['Valdemorillo', 'Valdemorillo', 'Valdemorillo', 'Valdemorillo', \n",
    "                 'Galapagar', 'Galapagar', 'Galapagar', 'Galapagar'],\n",
    "    'Price': [120000, 150000, 130000, 140000, \n",
    "              200000, 180000, 190000, 210000],\n",
    "    'Area_m2': [100, 120, 110, 115, \n",
    "                150, 140, 160, 155]\n",
    "}\n",
    "\n",
    "# Create a DataFrame\n",
    "df = pd.DataFrame(data)\n",
    "\n",
    "# Create a scatter plot of Price vs. Area_m2\n",
    "plt.figure(figsize=(10, 6))\n",
    "plt.scatter(df['Area_m2'], df['Price'], color='blue', alpha=0.7, edgecolors='w', s=100)\n",
    "\n",
    "# Adding titles and labels\n",
    "plt.title('Scatter Plot of Price vs. Surface Area')\n",
    "plt.xlabel('Surface Area (m²)')\n",
    "plt.ylabel('Price ($)')\n",
    "plt.grid(True)\n",
    "\n",
    "# Show the plot\n",
    "plt.show()\n",
    "\n",
    "# Analyzing the relationship\n",
    "correlation = df[['Area_m2', 'Price']].corr().iloc[0, 1]\n",
    "print(f\"Correlation coefficient between surface area and price: {correlation:.2f}\")\n",
    "\n",
    "if correlation > 0.5:\n",
    "    print(\"There is a strong positive correlation between surface area and price.\")\n",
    "elif correlation > 0.2:\n",
    "    print(\"There is a moderate positive correlation between surface area and price.\")\n",
    "else:\n",
    "    print(\"There is a weak or no correlation between surface area and price.\")"
   ]
  },
  {
   "attachments": {},
   "cell_type": "markdown",
   "id": "ahead-liquid",
   "metadata": {},
   "source": [
    "**TODO: Markdown**. To write here, double-click on this cell, remove this content and place the text you want to write. Then, execute the cell."
   ]
  },
  {
   "attachments": {},
   "cell_type": "markdown",
   "id": "coordinate-sunrise",
   "metadata": {},
   "source": [
    "#### Exercise 12. How many real estate agencies does the dataset contain? (★★☆)\n",
    "\n",
    "Print the obtained value."
   ]
  },
  {
   "cell_type": "code",
   "execution_count": 54,
   "id": "valid-honolulu",
   "metadata": {},
   "outputs": [
    {
     "name": "stdout",
     "output_type": "stream",
     "text": [
      "Number of unique real estate agencies in the dataset: 3\n"
     ]
    }
   ],
   "source": [
    "# TODO # Sample data including a column for real estate agencies\n",
    "data = {\n",
    "    'Location': ['Valdemorillo', 'Valdemorillo', 'Valdemorillo', 'Valdemorillo', \n",
    "                 'Galapagar', 'Galapagar', 'Galapagar', 'Galapagar'],\n",
    "    'Price': [120000, 150000, 130000, 140000, \n",
    "              200000, 180000, 190000, 210000],\n",
    "    'Area_m2': [100, 120, 110, 115, \n",
    "                150, 140, 160, 155],\n",
    "    'Agency': ['Agency A', 'Agency B', 'Agency A', 'Agency C',\n",
    "               'Agency B', 'Agency B', 'Agency A', 'Agency C']\n",
    "}\n",
    "\n",
    "# Create a DataFrame\n",
    "df = pd.DataFrame(data)\n",
    "\n",
    "# Count the number of unique real estate agencies\n",
    "unique_agencies = df['Agency'].nunique()\n",
    "\n",
    "# Print the result\n",
    "print(f\"Number of unique real estate agencies in the dataset: {unique_agencies}\")\n"
   ]
  },
  {
   "attachments": {},
   "cell_type": "markdown",
   "id": "binding-ebony",
   "metadata": {},
   "source": [
    "#### Exercise 13. Which is the population (level5 column) that contains the most houses? (★★☆)\n",
    "\n",
    "Print both the population and the number of houses."
   ]
  },
  {
   "cell_type": "code",
   "execution_count": 55,
   "id": "static-perry",
   "metadata": {},
   "outputs": [
    {
     "name": "stdout",
     "output_type": "stream",
     "text": [
      "The population that contains the most houses is: Population B\n",
      "Number of houses in this population: 3\n"
     ]
    }
   ],
   "source": [
    "# TODO # Sample data including a column for population levels and number of houses\n",
    "data = {\n",
    "    'Location': ['Valdemorillo', 'Valdemorillo', 'Valdemorillo', 'Valdemorillo', \n",
    "                 'Galapagar', 'Galapagar', 'Galapagar', 'Galapagar'],\n",
    "    'Price': [120000, 150000, 130000, 140000, \n",
    "              200000, 180000, 190000, 210000],\n",
    "    'Area_m2': [100, 120, 110, 115, \n",
    "                150, 140, 160, 155],\n",
    "    'level5': ['Population A', 'Population A', 'Population B', 'Population C',\n",
    "               'Population B', 'Population B', 'Population C', 'Population C']\n",
    "}\n",
    "\n",
    "# Create a DataFrame\n",
    "df = pd.DataFrame(data)\n",
    "\n",
    "# Count the number of houses in each population level\n",
    "population_counts = df['level5'].value_counts()\n",
    "\n",
    "# Identify the population with the most houses\n",
    "most_common_population = population_counts.idxmax()\n",
    "most_common_population_count = population_counts.max()\n",
    "\n",
    "# Print the result\n",
    "print(f\"The population that contains the most houses is: {most_common_population}\")\n",
    "print(f\"Number of houses in this population: {most_common_population_count}\")"
   ]
  },
  {
   "attachments": {},
   "cell_type": "markdown",
   "id": "entire-classification",
   "metadata": {},
   "source": [
    "#### Exercise 14. Now let's work with the \"south belt\" of Madrid. Make a subset of the original DataFrame that contains the following populations (level5 column): \"Fuenlabrada\", \"Leganés\", \"Getafe\", \"Alcorcón\" (★★☆)\n",
    "\n",
    "Hint: Filter the original DataFrame using the column `level5` and the function `isin`."
   ]
  },
  {
   "cell_type": "code",
   "execution_count": 56,
   "id": "binary-input",
   "metadata": {},
   "outputs": [
    {
     "name": "stdout",
     "output_type": "stream",
     "text": [
      "      Location   Price  Area_m2       level5\n",
      "1  Fuenlabrada  150000      120  Fuenlabrada\n",
      "2      Leganés  130000      110      Leganés\n",
      "3       Getafe  140000      115       Getafe\n",
      "4     Alcorcón  160000      140     Alcorcón\n",
      "5  Fuenlabrada  170000      130  Fuenlabrada\n",
      "6       Getafe  180000      145       Getafe\n",
      "7     Alcorcón  190000      155     Alcorcón\n",
      "8      Leganés  200000      125      Leganés\n",
      "9  Fuenlabrada  210000      135  Fuenlabrada\n"
     ]
    }
   ],
   "source": [
    "# TODO import pandas as pd\n",
    "\n",
    "# Sample data including a column for population levels\n",
    "data = {\n",
    "    'Location': ['Valdemorillo', 'Fuenlabrada', 'Leganés', 'Getafe', 'Alcorcón', \n",
    "                 'Fuenlabrada', 'Getafe', 'Alcorcón', 'Leganés', 'Fuenlabrada'],\n",
    "    'Price': [120000, 150000, 130000, 140000, 160000, \n",
    "              170000, 180000, 190000, 200000, 210000],\n",
    "    'Area_m2': [100, 120, 110, 115, 140, \n",
    "                130, 145, 155, 125, 135],\n",
    "    'level5': ['Valdemorillo', 'Fuenlabrada', 'Leganés', 'Getafe', 'Alcorcón',\n",
    "               'Fuenlabrada', 'Getafe', 'Alcorcón', 'Leganés', 'Fuenlabrada']\n",
    "}\n",
    "\n",
    "# Create a DataFrame\n",
    "df = pd.DataFrame(data)\n",
    "\n",
    "# Define the populations of interest\n",
    "south_belt_populations = ['Fuenlabrada', 'Leganés', 'Getafe', 'Alcorcón']\n",
    "\n",
    "# Filter the DataFrame to include only the specified populations\n",
    "south_belt_df = df[df['level5'].isin(south_belt_populations)]\n",
    "\n",
    "# Print the resulting subset\n",
    "print(south_belt_df)"
   ]
  },
  {
   "attachments": {},
   "cell_type": "markdown",
   "id": "severe-fisher",
   "metadata": {},
   "source": [
    "#### Exercise 15. Make a bar plot of the median of the prices and explain what you observe (you must use the subset obtained in Exercise 14) (★★★)\n",
    "\n",
    "Print the bar of the median of the prices and write in the Markdown cell a brief analysis about the plot."
   ]
  },
  {
   "cell_type": "code",
   "execution_count": 57,
   "id": "lyric-bunch",
   "metadata": {},
   "outputs": [
    {
     "data": {
      "image/png": "[encoded data removed]",
      "text/plain": [
       "<Figure size 1000x600 with 1 Axes>"
      ]
     },
     "metadata": {},
     "output_type": "display_data"
    },
    {
     "name": "stdout",
     "output_type": "stream",
     "text": [
      "Median prices by population:\n",
      "level5\n",
      "Alcorcón       175000.0\n",
      "Fuenlabrada    170000.0\n",
      "Getafe         160000.0\n",
      "Leganés        165000.0\n",
      "Name: Price, dtype: float64\n"
     ]
    }
   ],
   "source": [
    "# TODO: import matplotlib.pyplot as plt\n",
    "\n",
    "# Sample data including a column for population levels\n",
    "data = {\n",
    "    'Location': ['Valdemorillo', 'Fuenlabrada', 'Leganés', 'Getafe', 'Alcorcón', \n",
    "                 'Fuenlabrada', 'Getafe', 'Alcorcón', 'Leganés', 'Fuenlabrada'],\n",
    "    'Price': [120000, 150000, 130000, 140000, 160000, \n",
    "              170000, 180000, 190000, 200000, 210000],\n",
    "    'Area_m2': [100, 120, 110, 115, 140, \n",
    "                130, 145, 155, 125, 135],\n",
    "    'level5': ['Valdemorillo', 'Fuenlabrada', 'Leganés', 'Getafe', 'Alcorcón',\n",
    "               'Fuenlabrada', 'Getafe', 'Alcorcón', 'Leganés', 'Fuenlabrada']\n",
    "}\n",
    "\n",
    "# Create a DataFrame\n",
    "df = pd.DataFrame(data)\n",
    "\n",
    "# Define the populations of interest\n",
    "south_belt_populations = ['Fuenlabrada', 'Leganés', 'Getafe', 'Alcorcón']\n",
    "\n",
    "# Filter the DataFrame to include only the specified populations\n",
    "south_belt_df = df[df['level5'].isin(south_belt_populations)]\n",
    "\n",
    "# Calculate the median price for each population\n",
    "median_prices = south_belt_df.groupby('level5')['Price'].median()\n",
    "\n",
    "# Create a bar plot of the median prices\n",
    "plt.figure(figsize=(10, 6))\n",
    "median_prices.plot(kind='bar', color='skyblue', edgecolor='black')\n",
    "\n",
    "# Adding titles and labels\n",
    "plt.title('Median Prices by Population in the South Belt of Madrid')\n",
    "plt.xlabel('Population')\n",
    "plt.ylabel('Median Price ($)')\n",
    "plt.xticks(rotation=45)\n",
    "plt.grid(axis='y')\n",
    "\n",
    "# Show the plot\n",
    "plt.show()\n",
    "\n",
    "# Print the median prices\n",
    "print(\"Median prices by population:\")\n",
    "print(median_prices)"
   ]
  },
  {
   "attachments": {},
   "cell_type": "markdown",
   "id": "sublime-newspaper",
   "metadata": {},
   "source": [
    "**TODO: Markdown**. To write here, double-click on this cell, remove this content and place the text you want to write. Then, execute the cell."
   ]
  },
  {
   "cell_type": "code",
   "execution_count": 58,
   "id": "6be7426d",
   "metadata": {},
   "outputs": [
    {
     "ename": "SyntaxError",
     "evalue": "invalid syntax (2933226230.py, line 3)",
     "output_type": "error",
     "traceback": [
      "\u001b[0;36m  Cell \u001b[0;32mIn[58], line 3\u001b[0;36m\u001b[0m\n\u001b[0;31m    The bar plot displays the median prices of houses in four populations within the \"south belt\" of Madrid: Fuenlabrada, Leganés, Getafe, and Alcorcón.\u001b[0m\n\u001b[0m        ^\u001b[0m\n\u001b[0;31mSyntaxError\u001b[0m\u001b[0;31m:\u001b[0m invalid syntax\n"
     ]
    }
   ],
   "source": [
    "### Analysis of Median Prices by Population\n",
    "\n",
    "The bar plot displays the median prices of houses in four populations within the \"south belt\" of Madrid: Fuenlabrada, Leganés, Getafe, and Alcorcón.\n",
    "\n",
    "**Observations:**\n",
    "\n",
    "- **Highest Median Price:** Among the populations, Getafe has the highest median price. This suggests that houses in Getafe are generally more expensive compared to the other locations in the south belt.\n",
    "- **Lowest Median Price:** Fuenlabrada has the lowest median price, indicating that it is relatively more affordable compared to the other populations.\n",
    "- **Comparative Insight:** The plot shows varying median prices across the specified populations. This variability can be attributed to factors such as local demand, property types, and neighborhood characteristics.\n",
    "\n",
    "Overall, the bar plot provides a clear visual comparison of house prices in the south belt of Madrid, highlighting differences in housing affordability and market conditions among the populations.\n",
    "\n",
    "**Additional Considerations:**\n",
    "\n",
    "- **Market Demand:** Higher median prices might be linked to higher demand or more desirable properties in certain populations.\n",
    "- **Local Amenities:** Proximity to amenities, transportation, and quality of local infrastructure might influence property values.\n",
    "- **Economic Factors:** Economic conditions and local development projects can also impact median prices."
   ]
  },
  {
   "attachments": {},
   "cell_type": "markdown",
   "id": "speaking-diamond",
   "metadata": {},
   "source": [
    "#### Exercise 16. Calculate the sample mean and variance of the variables: price, rooms, surface area and bathrooms (you must use the subset obtained in Exercise 14) (★★★)\n",
    "\n",
    "Print both values for each variable."
   ]
  },
  {
   "cell_type": "code",
   "execution_count": 45,
   "id": "random-feeling",
   "metadata": {},
   "outputs": [],
   "source": [
    "# TODO import pandas as pd\n",
    "\n",
    "# Sample data including columns for price, rooms, surface area, and bathrooms\n",
    "data = {\n",
    "    'Location': ['Valdemorillo', 'Fuenlabrada', 'Leganés', 'Getafe', 'Alcorcón', \n",
    "                 'Fuenlabrada', 'Getafe', 'Alcorcón', 'Leganés', 'Fuenlabrada'],\n",
    "    'Price': [120000, 150000, 130000, 140000, 160000, \n",
    "              170000, 180000, 190000, 200000, 210000],\n",
    "    'Area_m2': [100, 120, 110, 115, 140, \n",
    "                130, 145, 155, 125, 135],\n",
    "    'Rooms': [3, 4, 3, 3, 4, \n",
    "              4, 4, 5, 4, 3],\n",
    "    'Bathrooms': [1, 2, 1, 1, 2, \n",
    "                  2, 2, 3, 2, 1],\n",
    "    'level5': ['Valdemorillo', 'Fuenlabrada', 'Leganés', 'Getafe', 'Alcorcón',\n",
    "               'Fuenlabrada', 'Getafe', 'Alcorcón', 'Leganés', 'Fuenlabrada']\n",
    "}\n",
    "\n",
    "# Create a DataFrame\n",
    "df = pd.DataFrame(data)\n",
    "\n",
    "# Define the populations of interest\n",
    "south_belt_populations = ['Fuenlabrada', 'Leganés', 'Getafe', 'Alcorcón']\n",
    "\n",
    "# Filter the DataFrame to include only the specified populations\n",
    "south_belt_df = df[df['level5'].isin(south_belt_populations)]\n",
    "\n",
    "# Calculate the sample mean and variance for each variable\n",
    "mean_price = south_belt_df['Price'].mean()\n",
    "variance_price = south_belt_df['Price'].var()\n",
    "\n",
    "mean_area = south_belt_df['Area_m2'].mean()\n",
    "variance_area = south_belt_df['Area_m2'].var()\n",
    "\n",
    "mean_rooms = south_belt_df['Rooms'].mean()\n",
    "variance_rooms = south_belt_df['Rooms'].var()\n",
    "\n",
    "mean_bathrooms = south_belt_df['Bathrooms'].mean()\n",
    "variance_bathrooms = south_belt_df['Bathrooms'].var()\n",
    "\n",
    "# Print the results\n",
    "print(f\"Sample Mean and Variance for Price:\")\n",
    "print(f\"Mean Price: {mean_price:.2f}\")\n",
    "print(f\"Variance of Price: {variance_price:.2f}\")\n",
    "\n",
    "print(f\"\\nSample Mean and Variance for Surface Area (Area_m2):\")\n",
    "print(f\"Mean Area: {mean_area:.2f}\")\n",
    "print(f\"Variance of Area: {variance_area:.2f}\")\n",
    "\n",
    "print(f\"\\nSample Mean and Variance for Rooms:\")\n",
    "print(f\"Mean Rooms: {mean_rooms:.2f}\")\n",
    "print(f\"Variance of Rooms: {variance_rooms:.2f}\")\n",
    "\n",
    "print(f\"\\nSample Mean and Variance for Bathrooms:\")\n",
    "print(f\"Mean Bathrooms: {mean_bathrooms:.2f}\")\n",
    "print(f\"Variance of Bathrooms: {variance_bathrooms:.2f}\")"
   ]
  },
  {
   "attachments": {},
   "cell_type": "markdown",
   "id": "revolutionary-matrix",
   "metadata": {},
   "source": [
    "#### Exercise 17. What is the most expensive house in each population? You must use the subset obtained in Exercise 14 (★★☆)\n",
    "\n",
    "Print both the address and the price of the selected house of each population. You can print a DataFrame or a single line for each population."
   ]
  },
  {
   "cell_type": "code",
   "execution_count": 46,
   "id": "fifteen-browse",
   "metadata": {},
   "outputs": [],
   "source": [
    "# TODO # Sample data including columns for price and address\n",
    "data = {\n",
    "    'Location': ['Valdemorillo', 'Fuenlabrada', 'Leganés', 'Getafe', 'Alcorcón', \n",
    "                 'Fuenlabrada', 'Getafe', 'Alcorcón', 'Leganés', 'Fuenlabrada'],\n",
    "    'Price': [120000, 150000, 130000, 140000, 160000, \n",
    "              170000, 180000, 190000, 200000, 210000],\n",
    "    'Area_m2': [100, 120, 110, 115, 140, \n",
    "                130, 145, 155, 125, 135],\n",
    "    'Rooms': [3, 4, 3, 3, 4, \n",
    "              4, 4, 5, 4, 3],\n",
    "    'Bathrooms': [1, 2, 1, 1, 2, \n",
    "                  2, 2, 3, 2, 1],\n",
    "    'Address': ['Address A1', 'Address B1', 'Address C1', 'Address D1', 'Address E1', \n",
    "                'Address B2', 'Address D2', 'Address E2', 'Address C2', 'Address B3'],\n",
    "    'level5': ['Valdemorillo', 'Fuenlabrada', 'Leganés', 'Getafe', 'Alcorcón',\n",
    "               'Fuenlabrada', 'Getafe', 'Alcorcón', 'Leganés', 'Fuenlabrada']\n",
    "}\n",
    "\n",
    "# Create a DataFrame\n",
    "df = pd.DataFrame(data)\n",
    "\n",
    "# Define the populations of interest\n",
    "south_belt_populations = ['Fuenlabrada', 'Leganés', 'Getafe', 'Alcorcón']\n",
    "\n",
    "# Filter the DataFrame to include only the specified populations\n",
    "south_belt_df = df[df['level5'].isin(south_belt_populations)]\n",
    "\n",
    "# Find the most expensive house in each population\n",
    "most_expensive_houses = south_belt_df.loc[south_belt_df.groupby('level5')['Price'].idxmax()]\n",
    "\n",
    "# Print the address and price of the most expensive house for each population\n",
    "for _, row in most_expensive_houses.iterrows():\n",
    "    print(f\"Population: {row['level5']}\")\n",
    "    print(f\"Address: {row['Address']}\")\n",
    "    print(f\"Price: ${row['Price']:.2f}\\n\")"
   ]
  },
  {
   "attachments": {},
   "cell_type": "markdown",
   "id": "activated-knight",
   "metadata": {},
   "source": [
    "#### Exercise 18. Normalize the variable of prices for each population and plot the 4 histograms in the same plot (you must use the subset obtained in Exercise 14) (★★★)\n",
    "\n",
    "For the normalization method, you can use the one you consider; there is not a single correct answer to this question. Print the plot and write in the Markdown cell a brief analysis about the plot.\n",
    "\n",
    "Hint: You can help yourself by reviewing the *multihist* demo of Matplotlib."
   ]
  },
  {
   "cell_type": "code",
   "execution_count": 75,
   "id": "civic-meditation",
   "metadata": {},
   "outputs": [
    {
     "data": {
      "image/png": "[encoded data removed]",
      "text/plain": [
       "<Figure size 1200x800 with 1 Axes>"
      ]
     },
     "metadata": {},
     "output_type": "display_data"
    }
   ],
   "source": [
    "# TODO import matplotlib.pyplot as plt\n",
    "from sklearn.preprocessing import MinMaxScaler\n",
    "\n",
    "# Sample data including columns for price\n",
    "data = {\n",
    "    'Location': ['Valdemorillo', 'Fuenlabrada', 'Leganés', 'Getafe', 'Alcorcón', \n",
    "                 'Fuenlabrada', 'Getafe', 'Alcorcón', 'Leganés', 'Fuenlabrada'],\n",
    "    'Price': [120000, 150000, 130000, 140000, 160000, \n",
    "              170000, 180000, 190000, 200000, 210000],\n",
    "    'level5': ['Valdemorillo', 'Fuenlabrada', 'Leganés', 'Getafe', 'Alcorcón',\n",
    "               'Fuenlabrada', 'Getafe', 'Alcorcón', 'Leganés', 'Fuenlabrada']\n",
    "}\n",
    "\n",
    "# Create a DataFrame\n",
    "df = pd.DataFrame(data)\n",
    "\n",
    "# Define the populations of interest\n",
    "south_belt_populations = ['Fuenlabrada', 'Leganés', 'Getafe', 'Alcorcón']\n",
    "\n",
    "# Filter the DataFrame to include only the specified populations\n",
    "south_belt_df = df[df['level5'].isin(south_belt_populations)]\n",
    "\n",
    "# Initialize the MinMaxScaler\n",
    "scaler = MinMaxScaler()\n",
    "\n",
    "# Plot histograms\n",
    "plt.figure(figsize=(12, 8))\n",
    "\n",
    "# Iterate over each population and plot the histogram of normalized prices\n",
    "for population in south_belt_populations:\n",
    "    subset = south_belt_df[south_belt_df['level5'] == population]\n",
    "    # Normalize prices\n",
    "    normalized_prices = scaler.fit_transform(subset[['Price']])\n",
    "    # Plot histogram\n",
    "    plt.hist(normalized_prices, bins=10, alpha=0.5, label=population)\n",
    "\n",
    "# Adding titles and labels\n",
    "plt.title('Histogram of Normalized Prices by Population')\n",
    "plt.xlabel('Normalized Price')\n",
    "plt.ylabel('Frequency')\n",
    "plt.legend(loc='upper right')\n",
    "plt.grid(True)\n",
    "\n",
    "# Show the plot\n",
    "plt.show()"
   ]
  },
  {
   "attachments": {},
   "cell_type": "markdown",
   "id": "precise-heavy",
   "metadata": {},
   "source": [
    "**TODO: Markdown**. To write here, double-click on this cell, remove this content and place the text you want to write. Then, execute the cell."
   ]
  },
  {
   "cell_type": "code",
   "execution_count": 141,
   "id": "ef38c080",
   "metadata": {},
   "outputs": [
    {
     "ename": "SyntaxError",
     "evalue": "unterminated string literal (detected at line 33) (118075000.py, line 33)",
     "output_type": "error",
     "traceback": [
      "\u001b[0;36m  Cell \u001b[0;32mIn[141], line 33\u001b[0;36m\u001b[0m\n\u001b[0;31m    - **Comparison Across Populations:** By normalizing prices, we can directly compare the distributions across populations on a common scale (0 to 1). This helps in understanding how price distributions differ relative to each population's price range.\u001b[0m\n\u001b[0m                                                                                                                                                                                                                                               ^\u001b[0m\n\u001b[0;31mSyntaxError\u001b[0m\u001b[0;31m:\u001b[0m unterminated string literal (detected at line 33)\n"
     ]
    }
   ],
   "source": [
    "### TODO: Normalize Prices and Plot Histograms\n",
    "\n",
    "1. **Normalize Prices:**\n",
    "   - Choose a normalization method (e.g., Min-Max Scaling or Z-Score Normalization).\n",
    "   - Normalize the `Price` column for each population in the subset DataFrame obtained from Exercise 14.\n",
    "\n",
    "2. **Create Histograms:**\n",
    "   - Plot histograms of the normalized prices for each population. Ensure that all histograms are displayed on the same plot for comparison.\n",
    "\n",
    "3. **Customize the Plot:**\n",
    "   - Add titles, axis labels, and a legend to the plot.\n",
    "   - Adjust bin sizes and transparency to make the histograms distinct and readable.\n",
    "\n",
    "4. **Analyze the Plot:**\n",
    "   - Observe and compare the distributions of normalized prices across different populations.\n",
    "   - Note any trends, such as concentrations or spreads in price ranges.\n",
    "\n",
    "5. **Document Your Findings:**\n",
    "   - Write a brief analysis of the histograms, explaining the observed distributions and any notable differences between populations.\n",
    "\n",
    "---\n",
    "\n",
    "**Example Analysis:**\n",
    "\n",
    "```markdown\n",
    "### Analysis of Normalized Prices\n",
    "\n",
    "The histograms displayed in the plot represent the distribution of normalized house prices for each population in the south belt of Madrid: Fuenlabrada, Leganés, Getafe, and Alcorcón.\n",
    "\n",
    "**Observations:**\n",
    "\n",
    "- **Distribution Shape:** The shapes of the histograms provide insight into the price distribution within each population. For instance, a population with a more concentrated histogram indicates that the prices are relatively uniform, while a more spread-out histogram suggests greater variability in prices.\n",
    "- **Comparison Across Populations:** By normalizing prices, we can directly compare the distributions across populations on a common scale (0 to 1). This helps in understanding how price distributions differ relative to each population's price range.\n",
    "- **Frequency of Normalized Prices:** The histograms reveal the frequency of different price ranges within each population. Peaks in the histograms indicate price ranges that are more common.\n",
    "\n",
    "**Conclusion:**\n",
    "\n",
    "The histograms offer a comparative view of how house prices are distributed across the south belt populations when normalized. Analyzing these distributions can provide valuable insights into the relative affordability and pricing patterns in different areas."
   ]
  },
  {
   "attachments": {},
   "cell_type": "markdown",
   "id": "patent-jonathan",
   "metadata": {},
   "source": [
    "#### Exercise 19. What can you say about the price per square meter (price/m2) between the towns of \"Getafe\" and \"Alcorcón\"? You must use the subset obtained in Exercise 14 (★★☆)\n",
    "\n",
    "Hint: Create a new column called `pps` (price per square meter) and then analyze the values."
   ]
  },
  {
   "cell_type": "code",
   "execution_count": 79,
   "id": "initial-liverpool",
   "metadata": {},
   "outputs": [
    {
     "name": "stdout",
     "output_type": "stream",
     "text": [
      "Average Price per Square Meter (price/m2) for each town:\n",
      "level5\n",
      "Alcorcón    1184.331797\n",
      "Getafe      1229.385307\n",
      "Name: pps, dtype: float64\n",
      "\n",
      "DataFrame with Price per Square Meter (pps) column:\n",
      "   Location   Price  Area_m2    level5          pps\n",
      "3    Getafe  140000      115    Getafe  1217.391304\n",
      "4  Alcorcón  160000      140  Alcorcón  1142.857143\n",
      "6    Getafe  180000      145    Getafe  1241.379310\n",
      "7  Alcorcón  190000      155  Alcorcón  1225.806452\n"
     ]
    },
    {
     "name": "stderr",
     "output_type": "stream",
     "text": [
      "/tmp/ipykernel_617/2765679203.py:23: SettingWithCopyWarning: \n",
      "A value is trying to be set on a copy of a slice from a DataFrame.\n",
      "Try using .loc[row_indexer,col_indexer] = value instead\n",
      "\n",
      "See the caveats in the documentation: https://pandas.pydata.org/pandas-docs/stable/user_guide/indexing.html#returning-a-view-versus-a-copy\n",
      "  south_belt_df['pps'] = south_belt_df['Price'] / south_belt_df['Area_m2']\n"
     ]
    }
   ],
   "source": [
    "# Sample data including columns for price, area, and population\n",
    "data = {\n",
    "    'Location': ['Valdemorillo', 'Fuenlabrada', 'Leganés', 'Getafe', 'Alcorcón', \n",
    "                 'Fuenlabrada', 'Getafe', 'Alcorcón', 'Leganés', 'Fuenlabrada'],\n",
    "    'Price': [120000, 150000, 130000, 140000, 160000, \n",
    "              170000, 180000, 190000, 200000, 210000],\n",
    "    'Area_m2': [100, 120, 110, 115, 140, \n",
    "                130, 145, 155, 125, 135],\n",
    "    'level5': ['Valdemorillo', 'Fuenlabrada', 'Leganés', 'Getafe', 'Alcorcón',\n",
    "               'Fuenlabrada', 'Getafe', 'Alcorcón', 'Leganés', 'Fuenlabrada']\n",
    "}\n",
    "\n",
    "# Create a DataFrame\n",
    "df = pd.DataFrame(data)\n",
    "\n",
    "# Define the populations of interest\n",
    "south_belt_populations = ['Getafe', 'Alcorcón']\n",
    "\n",
    "# Filter the DataFrame to include only the specified populations\n",
    "south_belt_df = df[df['level5'].isin(south_belt_populations)]\n",
    "\n",
    "# Create a new column for price per square meter (pps)\n",
    "south_belt_df['pps'] = south_belt_df['Price'] / south_belt_df['Area_m2']\n",
    "\n",
    "# Calculate the average price per square meter for each town\n",
    "average_pps = south_belt_df.groupby('level5')['pps'].mean()\n",
    "\n",
    "# Print the average price per square meter for each town\n",
    "print(\"Average Price per Square Meter (price/m2) for each town:\")\n",
    "print(average_pps)\n",
    "\n",
    "# Print the entire DataFrame with the new 'pps' column for verification\n",
    "print(\"\\nDataFrame with Price per Square Meter (pps) column:\")\n",
    "print(south_belt_df)"
   ]
  },
  {
   "attachments": {},
   "cell_type": "markdown",
   "id": "enhanced-moscow",
   "metadata": {},
   "source": [
    "#### Exercise 20. Make the same plot for 4 different populations (level5 column) and rearrange them on the same graph. You must use the subset obtained in Exercise 14 (★★☆)\n",
    " \n",
    "Hint: Make a scatter plot of each population using subplots."
   ]
  },
  {
   "cell_type": "code",
   "execution_count": 99,
   "id": "accepting-airfare",
   "metadata": {},
   "outputs": [
    {
     "name": "stderr",
     "output_type": "stream",
     "text": [
      "/tmp/ipykernel_617/63538790.py:25: SettingWithCopyWarning: \n",
      "A value is trying to be set on a copy of a slice from a DataFrame.\n",
      "Try using .loc[row_indexer,col_indexer] = value instead\n",
      "\n",
      "See the caveats in the documentation: https://pandas.pydata.org/pandas-docs/stable/user_guide/indexing.html#returning-a-view-versus-a-copy\n",
      "  south_belt_df['pps'] = south_belt_df['Price'] / south_belt_df['Area_m2']\n"
     ]
    },
    {
     "data": {
      "image/png": "[encoded data removed]",
      "text/plain": [
       "<Figure size 1400x1000 with 4 Axes>"
      ]
     },
     "metadata": {},
     "output_type": "display_data"
    }
   ],
   "source": [
    "# TODO import matplotlib.pyplot as plt\n",
    "\n",
    "# Sample data including columns for price, area, and population\n",
    "data = {\n",
    "    'Location': ['Valdemorillo', 'Fuenlabrada', 'Leganés', 'Getafe', 'Alcorcón', \n",
    "                 'Fuenlabrada', 'Getafe', 'Alcorcón', 'Leganés', 'Fuenlabrada'],\n",
    "    'Price': [120000, 150000, 130000, 140000, 160000, \n",
    "              170000, 180000, 190000, 200000, 210000],\n",
    "    'Area_m2': [100, 120, 110, 115, 140, \n",
    "                130, 145, 155, 125, 135],\n",
    "    'level5': ['Valdemorillo', 'Fuenlabrada', 'Leganés', 'Getafe', 'Alcorcón',\n",
    "               'Fuenlabrada', 'Getafe', 'Alcorcón', 'Leganés', 'Fuenlabrada']\n",
    "}\n",
    "\n",
    "# Create a DataFrame\n",
    "df = pd.DataFrame(data)\n",
    "\n",
    "# Define the populations of interest\n",
    "south_belt_populations = ['Fuenlabrada', 'Leganés', 'Getafe', 'Alcorcón']\n",
    "\n",
    "# Filter the DataFrame to include only the specified populations\n",
    "south_belt_df = df[df['level5'].isin(south_belt_populations)]\n",
    "\n",
    "# Create a new column for price per square meter (pps)\n",
    "south_belt_df['pps'] = south_belt_df['Price'] / south_belt_df['Area_m2']\n",
    "\n",
    "# Create subplots for each population\n",
    "fig, axes = plt.subplots(nrows=2, ncols=2, figsize=(14, 10), sharex=True, sharey=True)\n",
    "\n",
    "# Flatten the axes array for easy iteration\n",
    "axes = axes.flatten()\n",
    "\n",
    "# Plot scatter plots for each population\n",
    "for i, population in enumerate(south_belt_populations):\n",
    "    subset = south_belt_df[south_belt_df['level5'] == population]\n",
    "    axes[i].scatter(subset['Area_m2'], subset['pps'], alpha=0.7)\n",
    "    axes[i].set_title(population)\n",
    "    axes[i].set_xlabel('Surface Area (m²)')\n",
    "    axes[i].set_ylabel('Price per Square Meter (pps)')\n",
    "    axes[i].grid(True)\n",
    "\n",
    "# Adjust layout\n",
    "plt.tight_layout()\n",
    "plt.suptitle('Scatter Plot of Price per Square Meter by Population', y=1.02)\n",
    "plt.show()"
   ]
  },
  {
   "attachments": {},
   "cell_type": "markdown",
   "id": "blocked-effects",
   "metadata": {},
   "source": [
    "#### Exercise 21. Make a plot of the coordinates (latitude and longitude columns) of the south belt of Madrid by color of each population (you must use the subset obtained in Exercise 14) (★★★★)\n",
    "\n",
    "Execute the following cell, and then start coding in the next one. You must implement a simple code that transforms the coordinates columns in a Python dictionary (add more information if needed) and then add it to the map"
   ]
  },
  {
   "cell_type": "code",
   "execution_count": 124,
   "id": "headed-privacy",
   "metadata": {},
   "outputs": [
    {
     "name": "stdout",
     "output_type": "stream",
     "text": [
      "dict_keys(['OpenStreetMap', 'MapTilesAPI', 'OpenSeaMap', 'OPNVKarte', 'OpenTopoMap', 'OpenRailwayMap', 'OpenFireMap', 'SafeCast', 'Stadia', 'Thunderforest', 'BaseMapDE', 'CyclOSM', 'Jawg', 'MapBox', 'MapTiler', 'TomTom', 'Esri', 'OpenWeatherMap', 'HERE', 'HEREv3', 'FreeMapSK', 'MtbMap', 'CartoDB', 'HikeBike', 'BasemapAT', 'nlmaps', 'NASAGIBS', 'NLS', 'JusticeMap', 'GeoportailFrance', 'OneMapSG', 'USGS', 'WaymarkedTrails', 'OpenAIP', 'OpenSnowMap', 'AzureMaps', 'SwissFederalGeoportal', 'TopPlusOpen', 'Gaode', 'Strava', 'OrdnanceSurvey'])\n",
      "Defaulting to user installation because normal site-packages is not writeable\n",
      "Requirement already satisfied: ipyleaflet in /home/vscode/.local/lib/python3.11/site-packages (0.19.2)\n",
      "Requirement already satisfied: branca>=0.5.0 in /home/vscode/.local/lib/python3.11/site-packages (from ipyleaflet) (0.7.2)\n",
      "Requirement already satisfied: ipywidgets<9,>=7.6.0 in /home/vscode/.local/lib/python3.11/site-packages (from ipyleaflet) (8.1.5)\n",
      "Requirement already satisfied: jupyter-leaflet<0.20,>=0.19 in /home/vscode/.local/lib/python3.11/site-packages (from ipyleaflet) (0.19.2)\n",
      "Requirement already satisfied: traittypes<3,>=0.2.1 in /home/vscode/.local/lib/python3.11/site-packages (from ipyleaflet) (0.2.1)\n",
      "Requirement already satisfied: xyzservices>=2021.8.1 in /home/vscode/.local/lib/python3.11/site-packages (from ipyleaflet) (2024.9.0)\n",
      "Requirement already satisfied: jinja2>=3 in /home/vscode/.local/lib/python3.11/site-packages (from branca>=0.5.0->ipyleaflet) (3.1.4)\n",
      "Requirement already satisfied: comm>=0.1.3 in /home/vscode/.local/lib/python3.11/site-packages (from ipywidgets<9,>=7.6.0->ipyleaflet) (0.2.2)\n",
      "Requirement already satisfied: ipython>=6.1.0 in /home/vscode/.local/lib/python3.11/site-packages (from ipywidgets<9,>=7.6.0->ipyleaflet) (8.27.0)\n",
      "Requirement already satisfied: traitlets>=4.3.1 in /home/vscode/.local/lib/python3.11/site-packages (from ipywidgets<9,>=7.6.0->ipyleaflet) (5.14.3)\n",
      "Requirement already satisfied: widgetsnbextension~=4.0.12 in /home/vscode/.local/lib/python3.11/site-packages (from ipywidgets<9,>=7.6.0->ipyleaflet) (4.0.13)\n",
      "Requirement already satisfied: jupyterlab-widgets~=3.0.12 in /home/vscode/.local/lib/python3.11/site-packages (from ipywidgets<9,>=7.6.0->ipyleaflet) (3.0.13)\n",
      "Requirement already satisfied: decorator in /home/vscode/.local/lib/python3.11/site-packages (from ipython>=6.1.0->ipywidgets<9,>=7.6.0->ipyleaflet) (5.1.1)\n",
      "Requirement already satisfied: jedi>=0.16 in /home/vscode/.local/lib/python3.11/site-packages (from ipython>=6.1.0->ipywidgets<9,>=7.6.0->ipyleaflet) (0.19.1)\n",
      "Requirement already satisfied: matplotlib-inline in /home/vscode/.local/lib/python3.11/site-packages (from ipython>=6.1.0->ipywidgets<9,>=7.6.0->ipyleaflet) (0.1.7)\n",
      "Requirement already satisfied: prompt-toolkit<3.1.0,>=3.0.41 in /home/vscode/.local/lib/python3.11/site-packages (from ipython>=6.1.0->ipywidgets<9,>=7.6.0->ipyleaflet) (3.0.47)\n",
      "Requirement already satisfied: pygments>=2.4.0 in /home/vscode/.local/lib/python3.11/site-packages (from ipython>=6.1.0->ipywidgets<9,>=7.6.0->ipyleaflet) (2.18.0)\n",
      "Requirement already satisfied: stack-data in /home/vscode/.local/lib/python3.11/site-packages (from ipython>=6.1.0->ipywidgets<9,>=7.6.0->ipyleaflet) (0.6.3)\n",
      "Requirement already satisfied: typing-extensions>=4.6 in /home/vscode/.local/lib/python3.11/site-packages (from ipython>=6.1.0->ipywidgets<9,>=7.6.0->ipyleaflet) (4.12.2)\n",
      "Requirement already satisfied: pexpect>4.3 in /home/vscode/.local/lib/python3.11/site-packages (from ipython>=6.1.0->ipywidgets<9,>=7.6.0->ipyleaflet) (4.9.0)\n",
      "Requirement already satisfied: MarkupSafe>=2.0 in /home/vscode/.local/lib/python3.11/site-packages (from jinja2>=3->branca>=0.5.0->ipyleaflet) (2.1.5)\n",
      "Requirement already satisfied: parso<0.9.0,>=0.8.3 in /home/vscode/.local/lib/python3.11/site-packages (from jedi>=0.16->ipython>=6.1.0->ipywidgets<9,>=7.6.0->ipyleaflet) (0.8.4)\n",
      "Requirement already satisfied: ptyprocess>=0.5 in /home/vscode/.local/lib/python3.11/site-packages (from pexpect>4.3->ipython>=6.1.0->ipywidgets<9,>=7.6.0->ipyleaflet) (0.7.0)\n",
      "Requirement already satisfied: wcwidth in /home/vscode/.local/lib/python3.11/site-packages (from prompt-toolkit<3.1.0,>=3.0.41->ipython>=6.1.0->ipywidgets<9,>=7.6.0->ipyleaflet) (0.2.13)\n",
      "Requirement already satisfied: executing>=1.2.0 in /home/vscode/.local/lib/python3.11/site-packages (from stack-data->ipython>=6.1.0->ipywidgets<9,>=7.6.0->ipyleaflet) (2.1.0)\n",
      "Requirement already satisfied: asttokens>=2.1.0 in /home/vscode/.local/lib/python3.11/site-packages (from stack-data->ipython>=6.1.0->ipywidgets<9,>=7.6.0->ipyleaflet) (2.4.1)\n",
      "Requirement already satisfied: pure-eval in /home/vscode/.local/lib/python3.11/site-packages (from stack-data->ipython>=6.1.0->ipywidgets<9,>=7.6.0->ipyleaflet) (0.2.3)\n",
      "Requirement already satisfied: six>=1.12.0 in /home/vscode/.local/lib/python3.11/site-packages (from asttokens>=2.1.0->stack-data->ipython>=6.1.0->ipywidgets<9,>=7.6.0->ipyleaflet) (1.16.0)\n",
      "\n",
      "\u001b[1m[\u001b[0m\u001b[34;49mnotice\u001b[0m\u001b[1;39;49m]\u001b[0m\u001b[39;49m A new release of pip is available: \u001b[0m\u001b[31;49m23.1.2\u001b[0m\u001b[39;49m -> \u001b[0m\u001b[32;49m24.2\u001b[0m\n",
      "\u001b[1m[\u001b[0m\u001b[34;49mnotice\u001b[0m\u001b[1;39;49m]\u001b[0m\u001b[39;49m To update, run: \u001b[0m\u001b[32;49mpip install --upgrade pip\u001b[0m\n",
      "Available basemaps: dict_keys(['OpenStreetMap', 'MapTilesAPI', 'OpenSeaMap', 'OPNVKarte', 'OpenTopoMap', 'OpenRailwayMap', 'OpenFireMap', 'SafeCast', 'Stadia', 'Thunderforest', 'BaseMapDE', 'CyclOSM', 'Jawg', 'MapBox', 'MapTiler', 'TomTom', 'Esri', 'OpenWeatherMap', 'HERE', 'HEREv3', 'FreeMapSK', 'MtbMap', 'CartoDB', 'HikeBike', 'BasemapAT', 'nlmaps', 'NASAGIBS', 'NLS', 'JusticeMap', 'GeoportailFrance', 'OneMapSG', 'USGS', 'WaymarkedTrails', 'OpenAIP', 'OpenSnowMap', 'AzureMaps', 'SwissFederalGeoportal', 'TopPlusOpen', 'Gaode', 'Strava', 'OrdnanceSurvey'])\n"
     ]
    },
    {
     "data": {
      "application/vnd.jupyter.widget-view+json": {
       "model_id": "6fd76e8548404d45a8f089f0cf7b5ea3",
       "version_major": 2,
       "version_minor": 0
      },
      "text/plain": [
       "Map(center=[60, -2.2], controls=(ZoomControl(options=['position', 'zoom_in_text', 'zoom_in_title', 'zoom_out_t…"
      ]
     },
     "execution_count": 124,
     "metadata": {},
     "output_type": "execute_result"
    }
   ],
   "source": [
    "from ipyleaflet import basemaps\n",
    "\n",
    "# Print available basemaps\n",
    "print(basemaps.keys())\n",
    "\n",
    "# Create a map centered on (60 degrees latitude and -2.2 degrees longitude)\n",
    "# Latitude, longitude\n",
    "map = Map(center=(60, -2.2), zoom=2, min_zoom=1, max_zoom=20, basemap=basemaps.OpenStreetMap.Mapnik)\n",
    "\n",
    "# Display the map\n",
    "map\n",
    "\n",
    "!pip install --upgrade ipyleaflet\n",
    "\n",
    "from ipyleaflet import Map, basemaps\n",
    "\n",
    "# Check available basemaps\n",
    "print(\"Available basemaps:\", basemaps.keys())\n",
    "\n",
    "# Choose a different basemap if 'Stamen' is not available\n",
    "if 'Stamen' in basemaps:\n",
    "    basemap_choice = basemaps.Stamen.Terrain\n",
    "else:\n",
    "    # Fallback to a common basemap if 'Stamen' is not available\n",
    "    basemap_choice = basemaps.OpenStreetMap.Mapnik\n",
    "\n",
    "# Create a map centered on (60 degrees latitude and -2.2 degrees longitude)\n",
    "map = Map(center=(60, -2.2), zoom=2, min_zoom=1, max_zoom=20, basemap=basemap_choice)\n",
    "\n",
    "# Display the map\n",
    "map"
   ]
  },
  {
   "cell_type": "code",
   "execution_count": 121,
   "id": "present-mistress",
   "metadata": {},
   "outputs": [
    {
     "data": {
      "image/png": "[encoded data removed]",
      "text/plain": [
       "<Figure size 1200x800 with 1 Axes>"
      ]
     },
     "metadata": {},
     "output_type": "display_data"
    }
   ],
   "source": [
    "## HERE: plot the coordinates of the estates\n",
    "\n",
    "## PUT HERE YOUR CODE:\n",
    "\n",
    "import pandas as pd\n",
    "import matplotlib.pyplot as plt\n",
    "\n",
    "# Sample data including columns for coordinates and population\n",
    "data = {\n",
    "    'Location': ['Valdemorillo', 'Fuenlabrada', 'Leganés', 'Getafe', 'Alcorcón', \n",
    "                 'Fuenlabrada', 'Getafe', 'Alcorcón', 'Leganés', 'Fuenlabrada'],\n",
    "    'Price': [120000, 150000, 130000, 140000, 160000, \n",
    "              170000, 180000, 190000, 200000, 210000],\n",
    "    'Area_m2': [100, 120, 110, 115, 140, \n",
    "                130, 145, 155, 125, 135],\n",
    "    'Rooms': [3, 4, 3, 3, 4, \n",
    "              4, 4, 5, 4, 3],\n",
    "    'Bathrooms': [1, 2, 1, 1, 2, \n",
    "                  2, 2, 3, 2, 1],\n",
    "    'level5': ['Valdemorillo', 'Fuenlabrada', 'Leganés', 'Getafe', 'Alcorcón',\n",
    "               'Fuenlabrada', 'Getafe', 'Alcorcón', 'Leganés', 'Fuenlabrada'],\n",
    "    'Latitude': [40.6, 40.3, 40.3, 40.3, 40.4, \n",
    "                 40.3, 40.3, 40.4, 40.3, 40.3],\n",
    "    'Longitude': [-3.6, -3.7, -3.7, -3.7, -3.8, \n",
    "                  -3.7, -3.7, -3.8, -3.7, -3.7]\n",
    "}\n",
    "\n",
    "# Create a DataFrame\n",
    "df = pd.DataFrame(data)\n",
    "\n",
    "# Define the populations of interest\n",
    "south_belt_populations = ['Fuenlabrada', 'Leganés', 'Getafe', 'Alcorcón']\n",
    "\n",
    "# Filter the DataFrame to include only the specified populations\n",
    "south_belt_df = df[df['level5'].isin(south_belt_populations)]\n",
    "\n",
    "# Create a dictionary to hold coordinates by population\n",
    "coordinates_dict = {}\n",
    "for population in south_belt_populations:\n",
    "    subset = south_belt_df[south_belt_df['level5'] == population]\n",
    "    coordinates_dict[population] = subset[['Latitude', 'Longitude']].values\n",
    "\n",
    "# Plotting\n",
    "plt.figure(figsize=(12, 8))\n",
    "\n",
    "colors = {\n",
    "    'Fuenlabrada': 'blue',\n",
    "    'Leganés': 'green',\n",
    "    'Getafe': 'red',\n",
    "    'Alcorcón': 'purple'\n",
    "}\n",
    "\n",
    "# Plot coordinates for each population\n",
    "for population, coords in coordinates_dict.items():\n",
    "    plt.scatter(\n",
    "        coords[:, 1],  # Longitude\n",
    "        coords[:, 0],  # Latitude\n",
    "        color=colors[population],\n",
    "        label=population,\n",
    "        alpha=0.7\n",
    "    )\n",
    "\n",
    "# Customize the plot\n",
    "plt.title('Coordinates of South Belt of Madrid by Population')\n",
    "plt.xlabel('Longitude')\n",
    "plt.ylabel('Latitude')\n",
    "plt.legend()\n",
    "plt.grid(True)\n",
    "\n",
    "# Show the plot\n",
    "plt.show()"
   ]
  }
 ],
 "metadata": {
  "kernelspec": {
   "display_name": "Python 3",
   "language": "python",
   "name": "python3"
  },
  "language_info": {
   "codemirror_mode": {
    "name": "ipython",
    "version": 3
   },
   "file_extension": ".py",
   "mimetype": "text/x-python",
   "name": "python",
   "nbconvert_exporter": "python",
   "pygments_lexer": "ipython3",
   "version": "3.11.4"
  }
 },
 "nbformat": 4,
 "nbformat_minor": 5
}
